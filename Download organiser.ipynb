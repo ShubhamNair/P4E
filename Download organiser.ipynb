{
 "cells": [
  {
   "cell_type": "code",
   "execution_count": 33,
   "id": "b6611650",
   "metadata": {},
   "outputs": [],
   "source": [
    "def organizefile(loc):\n",
    "    try:\n",
    "        l=os.listdir(loc)\n",
    "\n",
    "        for file in l:\n",
    "            n,e= os.path.splitext(file)\n",
    "\n",
    "            if e=='':\n",
    "                continue\n",
    "\n",
    "            ext=e[1:]\n",
    "            try:\n",
    "                if os.path.exists(loc+'/'+ext):\n",
    "                    shutil.move(loc+'/'+file,loc+'/'+ext)\n",
    "\n",
    "                else:\n",
    "                    os.mkdir(loc+'/'+ext)\n",
    "                    shutil.move(loc+'/'+file,loc+'/'+ext)\n",
    "            except:\n",
    "                print(file,'already exists. Rename the file')\n",
    "                continue\n",
    "    except: \n",
    "        print('Input a correct path')"
   ]
  },
  {
   "cell_type": "code",
   "execution_count": 34,
   "id": "c7dffce7",
   "metadata": {},
   "outputs": [
    {
     "name": "stdout",
     "output_type": "stream",
     "text": [
      "Untitled.ipynb already exists. Rename the file\n"
     ]
    }
   ],
   "source": [
    "organizefile('D:\\\\firefox')"
   ]
  }
 ],
 "metadata": {
  "kernelspec": {
   "display_name": "Python 3",
   "language": "python",
   "name": "python3"
  },
  "language_info": {
   "codemirror_mode": {
    "name": "ipython",
    "version": 3
   },
   "file_extension": ".py",
   "mimetype": "text/x-python",
   "name": "python",
   "nbconvert_exporter": "python",
   "pygments_lexer": "ipython3",
   "version": "3.8.8"
  }
 },
 "nbformat": 4,
 "nbformat_minor": 5
}
